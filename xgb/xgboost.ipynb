{
 "cells": [
  {
   "cell_type": "code",
   "execution_count": null,
   "id": "4bbe9c21-7116-4ad7-8d70-4f600fed38bb",
   "metadata": {
    "tags": []
   },
   "outputs": [],
   "source": [
    "import oml\n",
    "import xgboost as xgb\n",
    "import numpy as np\n",
    "import pandas as pd\n"
   ]
  },
  {
   "cell_type": "markdown",
   "id": "6c06e6fb-860a-4529-b2d7-0dffcc666817",
   "metadata": {},
   "source": [
    "Connect to database"
   ]
  },
  {
   "cell_type": "code",
   "execution_count": null,
   "id": "04f99431-cff9-4e31-9387-e3b9580b06b2",
   "metadata": {
    "tags": []
   },
   "outputs": [],
   "source": [
    "oml.connect(\"user\",\"password\",dsn='(DESCRIPTION=(ADDRESS=(PROTOCOL=TCP)(HOST=localhost)(PORT=1521))(CONNECT_DATA=(service_name=pdb1)))')"
   ]
  },
  {
   "cell_type": "markdown",
   "id": "5d53d7df-1e8b-496c-8f01-500eb36c808e",
   "metadata": {},
   "source": [
    "Load data from files to database tables"
   ]
  },
  {
   "cell_type": "code",
   "execution_count": null,
   "id": "bcc38c69-4305-48b8-90a1-8c28efcd8c8c",
   "metadata": {
    "tags": []
   },
   "outputs": [],
   "source": [
    "from sklearn.datasets import load_svmlight_file\n",
    "\n",
    "dtrain = xgb.DMatrix('agaricus.txt.train')\n",
    "col_names=dtrain.feature_names\n",
    "\n",
    "train_data = load_svmlight_file('agaricus.txt.train')\n",
    "\n",
    "train_X = train_data[0].toarray()\n",
    "train_y = train_data[1]\n",
    "train_df=pd.DataFrame(data=train_X,columns=col_names[1:127])\n",
    "train_target_df=pd.DataFrame(data=train_y)\n",
    "\n",
    "oml.create(train_df,table='TRAIN_DF')\n",
    "oml.create(train_target_df,table='TARGET_DF')"
   ]
  },
  {
   "cell_type": "code",
   "execution_count": null,
   "id": "05aa9ea5-d6a8-418f-9cac-3d57d36e2c2d",
   "metadata": {},
   "outputs": [],
   "source": [
    "test_data = load_svmlight_file('agaricus.txt.test')\n",
    "\n",
    "test_X = test_data[0].toarray()\n",
    "test_y = test_data[1]\n",
    "test_df=pd.DataFrame(data=test_X,columns=col_names[1:127])\n",
    "test_target_df=pd.DataFrame(data=test_y)\n",
    "\n",
    "oml.create(test_df,table='TEST_DF')\n",
    "oml.create(test_target_df,table='TEST_TARGET_DF')"
   ]
  },
  {
   "cell_type": "markdown",
   "id": "cca212d6-e841-499c-9e78-18d0bc10e60e",
   "metadata": {},
   "source": [
    "Create functions to train and use the model. Store them in the script repository"
   ]
  },
  {
   "cell_type": "code",
   "execution_count": null,
   "id": "513c1b56-b3eb-431c-9a1c-f08ce31c0d9f",
   "metadata": {},
   "outputs": [],
   "source": [
    "def train_xgboost():\n",
    "    import oml\n",
    "    import xgboost as xgb\n",
    "    \n",
    "    dat=oml.sync(table=\"TRAIN_DF\").pull()\n",
    "    target=oml.sync(table=\"TARGET_DF\").pull()\n",
    "    \n",
    "    dtrain=xgb.DMatrix(dat, label=target)\n",
    "    param = {'max_depth':2, 'eta':1, 'objective':'binary:logistic' }\n",
    "    num_round = 2\n",
    "    bst = xgb.train(param, dtrain, num_round)\n",
    "    mod=bst.save_raw()\n",
    "    oml.ds.save(objs={'xgboost_raw':mod}, name=\"MED\", append=True)\n",
    "    return mod\n",
    "\n",
    "oml.script.create(\"train_xgboost\", train_xgboost, overwrite = True)"
   ]
  },
  {
   "cell_type": "code",
   "execution_count": null,
   "id": "e6d09532-1e76-4c91-b546-36371872a278",
   "metadata": {
    "tags": []
   },
   "outputs": [],
   "source": [
    "def use_xgboost():\n",
    "    import oml\n",
    "    import xgboost as xgb\n",
    "    \n",
    "    objs=oml.ds.load(name=\"MED\", to_globals=False)\n",
    "    bst2 = xgb.Booster({'nthread': '4'})\n",
    "    bst2.load_model(objs['xgboost_raw'])\n",
    "    \n",
    "    dat=oml.sync(table=\"TEST_DF\").pull()\n",
    "    target=oml.sync(table=\"TEST_TARGET_DF\").pull()\n",
    "    \n",
    "    dtest=xgb.DMatrix(dat, label=target)\n",
    "    pred = bst2.predict(dtest)\n",
    "    return pred\n",
    "\n",
    "oml.script.create(\"use_xgboost\", use_xgboost, overwrite = True)"
   ]
  },
  {
   "cell_type": "code",
   "execution_count": null,
   "id": "530a37b1-314f-48ed-ac92-79f67095bcd2",
   "metadata": {
    "tags": []
   },
   "outputs": [],
   "source": [
    "oml.script.dir(name=\"xgboost$\",regex_match=True)"
   ]
  },
  {
   "cell_type": "markdown",
   "id": "2428fe41-bb6c-4e1e-a436-c4e2b9c47cca",
   "metadata": {},
   "source": [
    "Run embedded execution for the xgboost training"
   ]
  },
  {
   "cell_type": "code",
   "execution_count": null,
   "id": "3413205b-c7d5-4f24-b748-ef46d1c2d9fe",
   "metadata": {
    "tags": []
   },
   "outputs": [],
   "source": [
    "res = oml.do_eval(func='train_xgboost',oml_connect=True)"
   ]
  },
  {
   "cell_type": "markdown",
   "id": "db82e748-0f0b-4651-a2a5-938df3238a44",
   "metadata": {},
   "source": [
    "Look for the model in database's data store"
   ]
  },
  {
   "cell_type": "code",
   "execution_count": null,
   "id": "4e3a9af4-9f60-4f82-a91e-d4d203204976",
   "metadata": {
    "tags": []
   },
   "outputs": [],
   "source": [
    "oml.ds.dir(name=\"MED\")"
   ]
  },
  {
   "cell_type": "code",
   "execution_count": null,
   "id": "aa21c11b-72b5-477a-b1e6-7856f9fd390c",
   "metadata": {
    "tags": []
   },
   "outputs": [],
   "source": [
    "oml.ds.describe(name=\"MED\")"
   ]
  },
  {
   "cell_type": "markdown",
   "id": "f29bec93-a089-476d-ab5b-9ddfaf6cfb54",
   "metadata": {},
   "source": [
    "Use xgboost more with test data"
   ]
  },
  {
   "cell_type": "code",
   "execution_count": null,
   "id": "60f448cd-6267-432f-8bfa-b9492f3db28b",
   "metadata": {
    "tags": []
   },
   "outputs": [],
   "source": [
    "res = oml.do_eval(func='use_xgboost',oml_connect=True)\n",
    "res"
   ]
  },
  {
   "cell_type": "code",
   "execution_count": null,
   "id": "55801c2d-242d-4b24-bb85-b777b6996d03",
   "metadata": {},
   "outputs": [],
   "source": []
  }
 ],
 "metadata": {
  "kernelspec": {
   "display_name": "Python 3 (ipykernel)",
   "language": "python",
   "name": "python3"
  },
  "language_info": {
   "codemirror_mode": {
    "name": "ipython",
    "version": 3
   },
   "file_extension": ".py",
   "mimetype": "text/x-python",
   "name": "python",
   "nbconvert_exporter": "python",
   "pygments_lexer": "ipython3",
   "version": "3.9.2"
  }
 },
 "nbformat": 4,
 "nbformat_minor": 5
}
